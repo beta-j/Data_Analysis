{
  "nbformat": 4,
  "nbformat_minor": 0,
  "metadata": {
    "colab": {
      "provenance": []
    },
    "kernelspec": {
      "name": "python3",
      "display_name": "Python 3"
    },
    "language_info": {
      "name": "python"
    }
  },
  "cells": [
    {
      "cell_type": "code",
      "execution_count": null,
      "metadata": {
        "colab": {
          "base_uri": "https://localhost:8080/"
        },
        "id": "XTGPmWiNk5TR",
        "outputId": "fc65701a-992a-4d2b-84cc-d1a16e970333"
      },
      "outputs": [
        {
          "output_type": "stream",
          "name": "stdout",
          "text": [
            "Requirement already satisfied: featuretools in /usr/local/lib/python3.10/dist-packages (1.28.0)\n",
            "Requirement already satisfied: cloudpickle>=1.5.0 in /usr/local/lib/python3.10/dist-packages (from featuretools) (2.2.1)\n",
            "Requirement already satisfied: holidays<0.33,>=0.13 in /usr/local/lib/python3.10/dist-packages (from featuretools) (0.32)\n",
            "Requirement already satisfied: numpy>=1.21.0 in /usr/local/lib/python3.10/dist-packages (from featuretools) (1.23.5)\n",
            "Requirement already satisfied: packaging>=20.0 in /usr/local/lib/python3.10/dist-packages (from featuretools) (23.2)\n",
            "Requirement already satisfied: pandas>=1.5.0 in /usr/local/lib/python3.10/dist-packages (from featuretools) (1.5.3)\n",
            "Requirement already satisfied: psutil>=5.6.6 in /usr/local/lib/python3.10/dist-packages (from featuretools) (5.9.5)\n",
            "Requirement already satisfied: scipy>=1.10.0 in /usr/local/lib/python3.10/dist-packages (from featuretools) (1.11.4)\n",
            "Requirement already satisfied: tqdm>=4.32.0 in /usr/local/lib/python3.10/dist-packages (from featuretools) (4.66.1)\n",
            "Requirement already satisfied: woodwork>=0.23.0 in /usr/local/lib/python3.10/dist-packages (from featuretools) (0.27.0)\n",
            "Requirement already satisfied: python-dateutil in /usr/local/lib/python3.10/dist-packages (from holidays<0.33,>=0.13->featuretools) (2.8.2)\n",
            "Requirement already satisfied: pytz>=2020.1 in /usr/local/lib/python3.10/dist-packages (from pandas>=1.5.0->featuretools) (2023.3.post1)\n",
            "Requirement already satisfied: scikit-learn>=0.22 in /usr/local/lib/python3.10/dist-packages (from woodwork>=0.23.0->featuretools) (1.2.2)\n",
            "Requirement already satisfied: importlib-resources>=5.10.0 in /usr/local/lib/python3.10/dist-packages (from woodwork>=0.23.0->featuretools) (6.1.1)\n",
            "Requirement already satisfied: six>=1.5 in /usr/local/lib/python3.10/dist-packages (from python-dateutil->holidays<0.33,>=0.13->featuretools) (1.16.0)\n",
            "Requirement already satisfied: joblib>=1.1.1 in /usr/local/lib/python3.10/dist-packages (from scikit-learn>=0.22->woodwork>=0.23.0->featuretools) (1.3.2)\n",
            "Requirement already satisfied: threadpoolctl>=2.0.0 in /usr/local/lib/python3.10/dist-packages (from scikit-learn>=0.22->woodwork>=0.23.0->featuretools) (3.2.0)\n"
          ]
        }
      ],
      "source": [
        "!pip install featuretools"
      ]
    },
    {
      "cell_type": "code",
      "source": [
        "from google.colab import auth\n",
        "auth.authenticate_user()\n",
        "\n",
        "from pydrive.auth import GoogleAuth\n",
        "from pydrive.drive import GoogleDrive\n",
        "from google.colab import auth\n",
        "from oauth2client.client import GoogleCredentials\n",
        "\n",
        "gauth = GoogleAuth()\n",
        "gauth.credentials = GoogleCredentials.get_application_default()\n",
        "drive = GoogleDrive(gauth)\n",
        "gauth.credentials = GoogleCredentials.get_application_default()\n",
        "drive = GoogleDrive(gauth)\n",
        "data_drop = drive.CreateFile({'id':'1OtzpLNq_s8UtWQgPXJEQX6ejJ92lEwkH'})\n",
        "data_drop.GetContentFile('dropoff_neighborhoods.csv')\n",
        "data_pick = drive.CreateFile({'id':'1CE8P9xjJYirrE3sN3xPp-Cc9wKYoNGxU'})\n",
        "data_pick.GetContentFile('pickup_neighborhoods.csv')\n",
        "data_trips = drive.CreateFile({'id':'19kUSme4S1hfcUJn3JovQd_mvw54il1QI'})\n",
        "data_trips.GetContentFile('trips.pkl')"
      ],
      "metadata": {
        "id": "f4gxwDANmvkc"
      },
      "execution_count": null,
      "outputs": []
    },
    {
      "cell_type": "code",
      "source": [
        "import featuretools as ft\n",
        "import matplotlib\n",
        "import matplotlib.pyplot as plt\n",
        "import numpy as np\n",
        "import pandas as pd\n",
        "from featuretools.primitives import (Count, Day, Hour, Max, Mean, Median, Min,\n",
        "                                     Minute, Month, Std, Sum, Week, Weekday)\n",
        "from sklearn.ensemble import GradientBoostingRegressor\n",
        "\n",
        "%matplotlib inline\n",
        "\n",
        "print('Import successful!')"
      ],
      "metadata": {
        "colab": {
          "base_uri": "https://localhost:8080/"
        },
        "id": "56MI6zguk884",
        "outputId": "bf6b6c46-7132-4b68-bc0d-1a4b65f744ea"
      },
      "execution_count": null,
      "outputs": [
        {
          "output_type": "stream",
          "name": "stdout",
          "text": [
            "Import successful!\n"
          ]
        }
      ]
    },
    {
      "cell_type": "code",
      "source": [
        "def load_nyc_taxi_data():\n",
        "    trips = pd.read_pickle('trips.pkl')\n",
        "    trips[\"payment_type\"] = trips[\"payment_type\"].apply(str)\n",
        "    trips = trips.dropna(axis=0, how='any', subset=['trip_duration'])\n",
        "\n",
        "    pickup_neighborhoods = pd.read_csv(\n",
        "        \"pickup_neighborhoods.csv\", encoding='utf-8')\n",
        "    dropoff_neighborhoods = pd.read_csv(\n",
        "        \"dropoff_neighborhoods.csv\", encoding='utf-8')\n",
        "\n",
        "    return trips, pickup_neighborhoods, dropoff_neighborhoods"
      ],
      "metadata": {
        "id": "w-oj_-1Xpf8E"
      },
      "execution_count": null,
      "outputs": []
    },
    {
      "cell_type": "code",
      "source": [
        "def preview(df, n=5):\n",
        "    \"\"\"return n rows that have fewest number of nulls\"\"\"\n",
        "    order = df.isnull().sum(axis=1).sort_values(kind='mergesort').head(n).index\n",
        "    return df.loc[order]"
      ],
      "metadata": {
        "id": "jvWlPbJKpmVg"
      },
      "execution_count": null,
      "outputs": []
    },
    {
      "cell_type": "markdown",
      "source": [
        "#Data"
      ],
      "metadata": {
        "id": "9vf7YlAiEaRN"
      }
    },
    {
      "cell_type": "markdown",
      "source": [
        "Here we should load the data by calling the load_nyc_taxi_data() method.\n",
        "\n",
        "This method returns the following entities: trips, pickup_neighborhoods, dropoff_neighborhoods."
      ],
      "metadata": {
        "id": "q3cXatpCEv1s"
      }
    },
    {
      "cell_type": "code",
      "source": [
        "##Call load_nyc_taxi_data() method here...and return trips, pickup_neighborhoods, dropoff_neighborhoods\n",
        "trips, pickup_neighborhoods, dropoff_neighborhoods = load_nyc_taxi_data()\n",
        "preview(trips, 10)\n",
        "print('Data load successful!')"
      ],
      "metadata": {
        "id": "AsFhOJAWlAa3",
        "colab": {
          "base_uri": "https://localhost:8080/"
        },
        "outputId": "80e7c5f7-fc3f-44c7-e965-623b28e7be79"
      },
      "execution_count": null,
      "outputs": [
        {
          "output_type": "stream",
          "name": "stdout",
          "text": [
            "Data load successful!\n"
          ]
        }
      ]
    },
    {
      "cell_type": "markdown",
      "source": [
        "We can also plot some aspects of the data to get a better sense of its distributions. For instance, here is the `trip_duration` variable we are going to try to predict."
      ],
      "metadata": {
        "id": "p1f1xdeHE1WM"
      }
    },
    {
      "cell_type": "code",
      "source": [
        "#Write code to plot trip durations by number of trips\n",
        "trips.trip_duration.hist()\n",
        "plt.xlabel('Trip Duration in Seconds')\n",
        "plt.ylabel('Number of Trips')\n",
        "plt.suptitle('Trip Duration Distribution')\n",
        "plt.show()\n",
        "print('Histogram generation successful!')"
      ],
      "metadata": {
        "id": "M1ivgZ6EE_VE",
        "colab": {
          "base_uri": "https://localhost:8080/",
          "height": 515
        },
        "outputId": "ce0c5fe9-4403-401a-e604-5bf118374a0f"
      },
      "execution_count": null,
      "outputs": [
        {
          "output_type": "display_data",
          "data": {
            "text/plain": [
              "<Figure size 640x480 with 1 Axes>"
            ],
            "image/png": "[encoded data removed]"
          },
          "metadata": {}
        },
        {
          "output_type": "stream",
          "name": "stdout",
          "text": [
            "Histogram generation successful!\n"
          ]
        }
      ]
    },
    {
      "cell_type": "code",
      "source": [
        "#Get the count of trips in our trips dataset.\n",
        "print(trips.count())\n",
        "#You can also use .describe() which is a dataframe pandas method\n",
        "print(trips.describe())\n"
      ],
      "metadata": {
        "id": "QHgPx7jMFxmE",
        "colab": {
          "base_uri": "https://localhost:8080/"
        },
        "outputId": "a3910fef-22af-49f0-9d13-c9ca6d9d0e13"
      },
      "execution_count": null,
      "outputs": [
        {
          "output_type": "stream",
          "name": "stdout",
          "text": [
            "id                      10000\n",
            "vendor_id               10000\n",
            "pickup_datetime         10000\n",
            "dropoff_datetime        10000\n",
            "passenger_count         10000\n",
            "trip_distance           10000\n",
            "pickup_longitude        10000\n",
            "pickup_latitude         10000\n",
            "dropoff_longitude       10000\n",
            "dropoff_latitude        10000\n",
            "payment_type            10000\n",
            "trip_duration           10000\n",
            "pickup_neighborhood      9816\n",
            "dropoff_neighborhood     9835\n",
            "dtype: int64\n",
            "                 id     vendor_id  passenger_count  trip_distance  \\\n",
            "count   10000.00000  10000.000000     10000.000000   10000.000000   \n",
            "mean   519029.50000      1.527400         1.698100       2.743312   \n",
            "std      2886.89568      0.499274         1.303045       3.134647   \n",
            "min    514030.00000      1.000000         1.000000       0.000000   \n",
            "25%    516529.75000      1.000000         1.000000       1.000000   \n",
            "50%    519029.50000      2.000000         1.000000       1.700000   \n",
            "75%    521529.25000      2.000000         2.000000       3.200000   \n",
            "max    524029.00000      2.000000         6.000000      32.090000   \n",
            "\n",
            "       pickup_longitude  pickup_latitude  dropoff_longitude  dropoff_latitude  \\\n",
            "count      10000.000000     10000.000000       10000.000000      10000.000000   \n",
            "mean         -73.976702        40.749273         -73.974212         40.750304   \n",
            "std            0.032755         0.027119           0.031928          0.030314   \n",
            "min          -74.027252        40.632393         -74.027252         40.630280   \n",
            "25%          -73.992891        40.733330         -73.992287         40.732718   \n",
            "50%          -73.983452        40.750420         -73.981422         40.752056   \n",
            "75%          -73.968937        40.766482         -73.962952         40.768576   \n",
            "max          -73.773987        40.849663         -73.776260         40.849686   \n",
            "\n",
            "       trip_duration  \n",
            "count   10000.000000  \n",
            "mean      746.098900  \n",
            "std       525.049496  \n",
            "min         2.000000  \n",
            "25%       364.000000  \n",
            "50%       616.000000  \n",
            "75%       988.000000  \n",
            "max      3573.000000  \n"
          ]
        }
      ]
    },
    {
      "cell_type": "markdown",
      "source": [
        "Question 1: Data Analysis\n",
        "\n",
        "Describe the dataset. How many trips are in the dataset? How would you describe the distribution of the trip durations? What other things can you observe?"
      ],
      "metadata": {
        "id": "AAqDFFWaE-Nr"
      }
    },
    {
      "cell_type": "markdown",
      "source": [
        "**ANSWER 1:**\n",
        "\n",
        "*The dataset is a timeseries dataset that contains data related to 10,000 trips in total.*\n",
        "\n",
        "*The average trip duration is of approx. 746 seconds (or 12mins 26secs) with a standard deviation of 525 and a median (50th percentile) of 616.*\n",
        "\n",
        " *The distribution of the trip durations is positively-skewed (right-skewed) since the mode is greater than the median and the median is greater than the mean value.*\n",
        "\n",
        "\n",
        "---\n",
        "\n"
      ],
      "metadata": {
        "id": "DX6LwZh7HRKG"
      }
    },
    {
      "cell_type": "markdown",
      "source": [
        "Ensure that you remove the records with null reference ids \"neighborhood_id\". Null references keys can cause errors in the DFS algorithm below"
      ],
      "metadata": {
        "id": "55vcYLeqFhUO"
      }
    },
    {
      "cell_type": "code",
      "source": [
        "print(pickup_neighborhoods.count())\n",
        "\n",
        "pickup_neighborhoods = pickup_neighborhoods[pickup_neighborhoods['neighborhood_id'].notna()]\n",
        "print(pickup_neighborhoods.count())\n",
        "\n",
        "dropoff_neighborhoods = dropoff_neighborhoods[dropoff_neighborhoods['neighborhood_id'].notna()]\n",
        "print(dropoff_neighborhoods.count())\n"
      ],
      "metadata": {
        "id": "EJjXjnDWyw9k",
        "colab": {
          "base_uri": "https://localhost:8080/"
        },
        "outputId": "0369d3c4-29ff-45d3-805f-7158ef5f317c"
      },
      "execution_count": null,
      "outputs": [
        {
          "output_type": "stream",
          "name": "stdout",
          "text": [
            "neighborhood_id    49\n",
            "latitude           50\n",
            "longitude          50\n",
            "dtype: int64\n",
            "neighborhood_id    49\n",
            "latitude           49\n",
            "longitude          49\n",
            "dtype: int64\n",
            "neighborhood_id    49\n",
            "latitude           49\n",
            "longitude          49\n",
            "dtype: int64\n"
          ]
        }
      ]
    },
    {
      "cell_type": "markdown",
      "source": [
        "#Create Transform Primitives by using DFS"
      ],
      "metadata": {
        "id": "ppz_5I_RF2WM"
      }
    },
    {
      "cell_type": "code",
      "source": [
        "entities = {\n",
        "    \"trips\": (trips, \"id\", 'pickup_datetime'),\n",
        "    \"pickup_neighborhoods\": (pickup_neighborhoods, \"neighborhood_id\"),\n",
        "    \"dropoff_neighborhoods\": (dropoff_neighborhoods, \"neighborhood_id\"),\n",
        "}\n",
        "\n",
        "relationships = [(\"pickup_neighborhoods\", \"neighborhood_id\", \"trips\", \"pickup_neighborhood\"),\n",
        "                 (\"dropoff_neighborhoods\", \"neighborhood_id\", \"trips\", \"dropoff_neighborhood\")]\n",
        "\n",
        "print('Entities and relationships successful!')"
      ],
      "metadata": {
        "colab": {
          "base_uri": "https://localhost:8080/"
        },
        "id": "KuuAp0SFpvBY",
        "outputId": "f6816926-04cb-442d-93b1-7fd01f0b4253"
      },
      "execution_count": null,
      "outputs": [
        {
          "output_type": "stream",
          "name": "stdout",
          "text": [
            "Entities and relationships successful!\n"
          ]
        }
      ]
    },
    {
      "cell_type": "code",
      "source": [
        "trans_primitives = [Month]\n",
        "\n",
        "# https://featuretools.alteryx.com/en/stable/generated/featuretools.dfs.html\n",
        "feature_matrix, feature_names = ft.dfs(dataframes=entities,\n",
        "                  relationships=relationships,\n",
        "                  target_dataframe_name =\"trips\",\n",
        "                  trans_primitives=trans_primitives,\n",
        "                  agg_primitives=[],\n",
        "                  ignore_columns ={\"trips\": [\"pickup_latitude\", \"pickup_longitude\",\n",
        "                                              \"dropoff_latitude\", \"dropoff_longitude\", \"trip_duration\"]},\n",
        "                  features_only=False,\n",
        "                  )\n",
        "\n",
        "\n",
        "print('Transform primitives successful!')"
      ],
      "metadata": {
        "colab": {
          "base_uri": "https://localhost:8080/"
        },
        "id": "nq99btkkqHku",
        "outputId": "85431158-39e5-4e9c-c588-ed19bd5a2242"
      },
      "execution_count": null,
      "outputs": [
        {
          "output_type": "stream",
          "name": "stderr",
          "text": [
            "/usr/local/lib/python3.10/dist-packages/featuretools/entityset/entityset.py:414: UserWarning: Logical type Categorical for child column pickup_neighborhood does not match parent column neighborhood_id logical type Unknown. Changing child logical type to match parent.\n",
            "  warnings.warn(\n",
            "/usr/local/lib/python3.10/dist-packages/featuretools/entityset/entityset.py:414: UserWarning: Logical type Categorical for child column dropoff_neighborhood does not match parent column neighborhood_id logical type Unknown. Changing child logical type to match parent.\n",
            "  warnings.warn(\n"
          ]
        },
        {
          "output_type": "stream",
          "name": "stdout",
          "text": [
            "Transform primitives successful!\n"
          ]
        }
      ]
    },
    {
      "cell_type": "markdown",
      "source": [
        "Below are the features that we just created"
      ],
      "metadata": {
        "id": "-_q2WRutGHf7"
      }
    },
    {
      "cell_type": "code",
      "source": [
        "#Write code to show the number of features, as well as all the feature names as a list\n",
        "n_features = feature_names.count(feature_names)\n",
        "print(\"Number of features: \",n_features)\n",
        "print(feature_names)"
      ],
      "metadata": {
        "id": "5SuKMRP4qSJ6",
        "colab": {
          "base_uri": "https://localhost:8080/"
        },
        "outputId": "1fbaabb0-59b0-4bab-f7cc-eb933aad0063"
      },
      "execution_count": null,
      "outputs": [
        {
          "output_type": "stream",
          "name": "stdout",
          "text": [
            "Number of features:  10\n",
            "[<Feature: vendor_id>, <Feature: passenger_count>, <Feature: trip_distance>, <Feature: payment_type>, <Feature: MONTH(dropoff_datetime)>, <Feature: MONTH(pickup_datetime)>, <Feature: pickup_neighborhoods.latitude>, <Feature: pickup_neighborhoods.longitude>, <Feature: dropoff_neighborhoods.latitude>, <Feature: dropoff_neighborhoods.longitude>]\n"
          ]
        }
      ]
    },
    {
      "cell_type": "markdown",
      "source": [
        "Lets review the features_matrix by calling the preview(feature_matrix, n_features) function"
      ],
      "metadata": {
        "id": "cNt-BZvVGQrz"
      }
    },
    {
      "cell_type": "code",
      "source": [
        "#Call the preview function and show 5 records\n",
        "preview(feature_matrix, 5)"
      ],
      "metadata": {
        "id": "K_1rYrh90Zae",
        "colab": {
          "base_uri": "https://localhost:8080/",
          "height": 257
        },
        "outputId": "56952773-08e0-4090-fbd5-8493af99de69"
      },
      "execution_count": null,
      "outputs": [
        {
          "output_type": "execute_result",
          "data": {
            "text/plain": [
              "        vendor_id  passenger_count  trip_distance  payment_type  \\\n",
              "id                                                                \n",
              "514030          2                1           2.46             1   \n",
              "514031          1                2           7.90             1   \n",
              "514032          1                1           1.00             1   \n",
              "514033          2                1           0.02             2   \n",
              "514034          1                2          19.00             1   \n",
              "\n",
              "       MONTH(dropoff_datetime) MONTH(pickup_datetime)  \\\n",
              "id                                                      \n",
              "514030                       4                      4   \n",
              "514031                       4                      4   \n",
              "514032                       4                      4   \n",
              "514033                       4                      4   \n",
              "514034                       4                      4   \n",
              "\n",
              "        pickup_neighborhoods.latitude  pickup_neighborhoods.longitude  \\\n",
              "id                                                                      \n",
              "514030                      40.757707                      -73.986446   \n",
              "514031                      40.744928                      -73.919159   \n",
              "514032                      40.729652                      -73.991595   \n",
              "514033                      40.720245                      -73.987205   \n",
              "514034                      40.646194                      -73.785073   \n",
              "\n",
              "        dropoff_neighborhoods.latitude  dropoff_neighborhoods.longitude  \n",
              "id                                                                       \n",
              "514030                       40.766809                       -73.956886  \n",
              "514031                       40.793597                       -73.969822  \n",
              "514032                       40.740333                       -74.005107  \n",
              "514033                       40.720245                       -73.987205  \n",
              "514034                       40.785005                       -73.976050  "
            ],
            "text/html": [
              "\n",
              "  <div id=\"df-da14f522-de73-4170-b279-7588df82142b\" class=\"colab-df-container\">\n",
              "    <div>\n",
              "<style scoped>\n",
              "    .dataframe tbody tr th:only-of-type {\n",
              "        vertical-align: middle;\n",
              "    }\n",
              "\n",
              "    .dataframe tbody tr th {\n",
              "        vertical-align: top;\n",
              "    }\n",
              "\n",
              "    .dataframe thead th {\n",
              "        text-align: right;\n",
              "    }\n",
              "</style>\n",
              "<table border=\"1\" class=\"dataframe\">\n",
              "  <thead>\n",
              "    <tr style=\"text-align: right;\">\n",
              "      <th></th>\n",
              "      <th>vendor_id</th>\n",
              "      <th>passenger_count</th>\n",
              "      <th>trip_distance</th>\n",
              "      <th>payment_type</th>\n",
              "      <th>MONTH(dropoff_datetime)</th>\n",
              "      <th>MONTH(pickup_datetime)</th>\n",
              "      <th>pickup_neighborhoods.latitude</th>\n",
              "      <th>pickup_neighborhoods.longitude</th>\n",
              "      <th>dropoff_neighborhoods.latitude</th>\n",
              "      <th>dropoff_neighborhoods.longitude</th>\n",
              "    </tr>\n",
              "    <tr>\n",
              "      <th>id</th>\n",
              "      <th></th>\n",
              "      <th></th>\n",
              "      <th></th>\n",
              "      <th></th>\n",
              "      <th></th>\n",
              "      <th></th>\n",
              "      <th></th>\n",
              "      <th></th>\n",
              "      <th></th>\n",
              "      <th></th>\n",
              "    </tr>\n",
              "  </thead>\n",
              "  <tbody>\n",
              "    <tr>\n",
              "      <th>514030</th>\n",
              "      <td>2</td>\n",
              "      <td>1</td>\n",
              "      <td>2.46</td>\n",
              "      <td>1</td>\n",
              "      <td>4</td>\n",
              "      <td>4</td>\n",
              "      <td>40.757707</td>\n",
              "      <td>-73.986446</td>\n",
              "      <td>40.766809</td>\n",
              "      <td>-73.956886</td>\n",
              "    </tr>\n",
              "    <tr>\n",
              "      <th>514031</th>\n",
              "      <td>1</td>\n",
              "      <td>2</td>\n",
              "      <td>7.90</td>\n",
              "      <td>1</td>\n",
              "      <td>4</td>\n",
              "      <td>4</td>\n",
              "      <td>40.744928</td>\n",
              "      <td>-73.919159</td>\n",
              "      <td>40.793597</td>\n",
              "      <td>-73.969822</td>\n",
              "    </tr>\n",
              "    <tr>\n",
              "      <th>514032</th>\n",
              "      <td>1</td>\n",
              "      <td>1</td>\n",
              "      <td>1.00</td>\n",
              "      <td>1</td>\n",
              "      <td>4</td>\n",
              "      <td>4</td>\n",
              "      <td>40.729652</td>\n",
              "      <td>-73.991595</td>\n",
              "      <td>40.740333</td>\n",
              "      <td>-74.005107</td>\n",
              "    </tr>\n",
              "    <tr>\n",
              "      <th>514033</th>\n",
              "      <td>2</td>\n",
              "      <td>1</td>\n",
              "      <td>0.02</td>\n",
              "      <td>2</td>\n",
              "      <td>4</td>\n",
              "      <td>4</td>\n",
              "      <td>40.720245</td>\n",
              "      <td>-73.987205</td>\n",
              "      <td>40.720245</td>\n",
              "      <td>-73.987205</td>\n",
              "    </tr>\n",
              "    <tr>\n",
              "      <th>514034</th>\n",
              "      <td>1</td>\n",
              "      <td>2</td>\n",
              "      <td>19.00</td>\n",
              "      <td>1</td>\n",
              "      <td>4</td>\n",
              "      <td>4</td>\n",
              "      <td>40.646194</td>\n",
              "      <td>-73.785073</td>\n",
              "      <td>40.785005</td>\n",
              "      <td>-73.976050</td>\n",
              "    </tr>\n",
              "  </tbody>\n",
              "</table>\n",
              "</div>\n",
              "    <div class=\"colab-df-buttons\">\n",
              "\n",
              "  <div class=\"colab-df-container\">\n",
              "    <button class=\"colab-df-convert\" onclick=\"convertToInteractive('df-da14f522-de73-4170-b279-7588df82142b')\"\n",
              "            title=\"Convert this dataframe to an interactive table.\"\n",
              "            style=\"display:none;\">\n",
              "\n",
              "  <svg xmlns=\"http://www.w3.org/2000/svg\" height=\"24px\" viewBox=\"0 -960 960 960\">\n",
              "    <path d=\"M120-120v-720h720v720H120Zm60-500h600v-160H180v160Zm220 220h160v-160H400v160Zm0 220h160v-160H400v160ZM180-400h160v-160H180v160Zm440 0h160v-160H620v160ZM180-180h160v-160H180v160Zm440 0h160v-160H620v160Z\"/>\n",
              "  </svg>\n",
              "    </button>\n",
              "\n",
              "  <style>\n",
              "    .colab-df-container {\n",
              "      display:flex;\n",
              "      gap: 12px;\n",
              "    }\n",
              "\n",
              "    .colab-df-convert {\n",
              "      background-color: #E8F0FE;\n",
              "      border: none;\n",
              "      border-radius: 50%;\n",
              "      cursor: pointer;\n",
              "      display: none;\n",
              "      fill: #1967D2;\n",
              "      height: 32px;\n",
              "      padding: 0 0 0 0;\n",
              "      width: 32px;\n",
              "    }\n",
              "\n",
              "    .colab-df-convert:hover {\n",
              "      background-color: #E2EBFA;\n",
              "      box-shadow: 0px 1px 2px rgba(60, 64, 67, 0.3), 0px 1px 3px 1px rgba(60, 64, 67, 0.15);\n",
              "      fill: #174EA6;\n",
              "    }\n",
              "\n",
              "    .colab-df-buttons div {\n",
              "      margin-bottom: 4px;\n",
              "    }\n",
              "\n",
              "    [theme=dark] .colab-df-convert {\n",
              "      background-color: #3B4455;\n",
              "      fill: #D2E3FC;\n",
              "    }\n",
              "\n",
              "    [theme=dark] .colab-df-convert:hover {\n",
              "      background-color: #434B5C;\n",
              "      box-shadow: 0px 1px 3px 1px rgba(0, 0, 0, 0.15);\n",
              "      filter: drop-shadow(0px 1px 2px rgba(0, 0, 0, 0.3));\n",
              "      fill: #FFFFFF;\n",
              "    }\n",
              "  </style>\n",
              "\n",
              "    <script>\n",
              "      const buttonEl =\n",
              "        document.querySelector('#df-da14f522-de73-4170-b279-7588df82142b button.colab-df-convert');\n",
              "      buttonEl.style.display =\n",
              "        google.colab.kernel.accessAllowed ? 'block' : 'none';\n",
              "\n",
              "      async function convertToInteractive(key) {\n",
              "        const element = document.querySelector('#df-da14f522-de73-4170-b279-7588df82142b');\n",
              "        const dataTable =\n",
              "          await google.colab.kernel.invokeFunction('convertToInteractive',\n",
              "                                                    [key], {});\n",
              "        if (!dataTable) return;\n",
              "\n",
              "        const docLinkHtml = 'Like what you see? Visit the ' +\n",
              "          '<a target=\"_blank\" href=https://colab.research.google.com/notebooks/data_table.ipynb>data table notebook</a>'\n",
              "          + ' to learn more about interactive tables.';\n",
              "        element.innerHTML = '';\n",
              "        dataTable['output_type'] = 'display_data';\n",
              "        await google.colab.output.renderOutput(dataTable, element);\n",
              "        const docLink = document.createElement('div');\n",
              "        docLink.innerHTML = docLinkHtml;\n",
              "        element.appendChild(docLink);\n",
              "      }\n",
              "    </script>\n",
              "  </div>\n",
              "\n",
              "\n",
              "<div id=\"df-beee1c6b-a9c5-4044-baf8-ae206e4c9726\">\n",
              "  <button class=\"colab-df-quickchart\" onclick=\"quickchart('df-beee1c6b-a9c5-4044-baf8-ae206e4c9726')\"\n",
              "            title=\"Suggest charts\"\n",
              "            style=\"display:none;\">\n",
              "\n",
              "<svg xmlns=\"http://www.w3.org/2000/svg\" height=\"24px\"viewBox=\"0 0 24 24\"\n",
              "     width=\"24px\">\n",
              "    <g>\n",
              "        <path d=\"M19 3H5c-1.1 0-2 .9-2 2v14c0 1.1.9 2 2 2h14c1.1 0 2-.9 2-2V5c0-1.1-.9-2-2-2zM9 17H7v-7h2v7zm4 0h-2V7h2v10zm4 0h-2v-4h2v4z\"/>\n",
              "    </g>\n",
              "</svg>\n",
              "  </button>\n",
              "\n",
              "<style>\n",
              "  .colab-df-quickchart {\n",
              "      --bg-color: #E8F0FE;\n",
              "      --fill-color: #1967D2;\n",
              "      --hover-bg-color: #E2EBFA;\n",
              "      --hover-fill-color: #174EA6;\n",
              "      --disabled-fill-color: #AAA;\n",
              "      --disabled-bg-color: #DDD;\n",
              "  }\n",
              "\n",
              "  [theme=dark] .colab-df-quickchart {\n",
              "      --bg-color: #3B4455;\n",
              "      --fill-color: #D2E3FC;\n",
              "      --hover-bg-color: #434B5C;\n",
              "      --hover-fill-color: #FFFFFF;\n",
              "      --disabled-bg-color: #3B4455;\n",
              "      --disabled-fill-color: #666;\n",
              "  }\n",
              "\n",
              "  .colab-df-quickchart {\n",
              "    background-color: var(--bg-color);\n",
              "    border: none;\n",
              "    border-radius: 50%;\n",
              "    cursor: pointer;\n",
              "    display: none;\n",
              "    fill: var(--fill-color);\n",
              "    height: 32px;\n",
              "    padding: 0;\n",
              "    width: 32px;\n",
              "  }\n",
              "\n",
              "  .colab-df-quickchart:hover {\n",
              "    background-color: var(--hover-bg-color);\n",
              "    box-shadow: 0 1px 2px rgba(60, 64, 67, 0.3), 0 1px 3px 1px rgba(60, 64, 67, 0.15);\n",
              "    fill: var(--button-hover-fill-color);\n",
              "  }\n",
              "\n",
              "  .colab-df-quickchart-complete:disabled,\n",
              "  .colab-df-quickchart-complete:disabled:hover {\n",
              "    background-color: var(--disabled-bg-color);\n",
              "    fill: var(--disabled-fill-color);\n",
              "    box-shadow: none;\n",
              "  }\n",
              "\n",
              "  .colab-df-spinner {\n",
              "    border: 2px solid var(--fill-color);\n",
              "    border-color: transparent;\n",
              "    border-bottom-color: var(--fill-color);\n",
              "    animation:\n",
              "      spin 1s steps(1) infinite;\n",
              "  }\n",
              "\n",
              "  @keyframes spin {\n",
              "    0% {\n",
              "      border-color: transparent;\n",
              "      border-bottom-color: var(--fill-color);\n",
              "      border-left-color: var(--fill-color);\n",
              "    }\n",
              "    20% {\n",
              "      border-color: transparent;\n",
              "      border-left-color: var(--fill-color);\n",
              "      border-top-color: var(--fill-color);\n",
              "    }\n",
              "    30% {\n",
              "      border-color: transparent;\n",
              "      border-left-color: var(--fill-color);\n",
              "      border-top-color: var(--fill-color);\n",
              "      border-right-color: var(--fill-color);\n",
              "    }\n",
              "    40% {\n",
              "      border-color: transparent;\n",
              "      border-right-color: var(--fill-color);\n",
              "      border-top-color: var(--fill-color);\n",
              "    }\n",
              "    60% {\n",
              "      border-color: transparent;\n",
              "      border-right-color: var(--fill-color);\n",
              "    }\n",
              "    80% {\n",
              "      border-color: transparent;\n",
              "      border-right-color: var(--fill-color);\n",
              "      border-bottom-color: var(--fill-color);\n",
              "    }\n",
              "    90% {\n",
              "      border-color: transparent;\n",
              "      border-bottom-color: var(--fill-color);\n",
              "    }\n",
              "  }\n",
              "</style>\n",
              "\n",
              "  <script>\n",
              "    async function quickchart(key) {\n",
              "      const quickchartButtonEl =\n",
              "        document.querySelector('#' + key + ' button');\n",
              "      quickchartButtonEl.disabled = true;  // To prevent multiple clicks.\n",
              "      quickchartButtonEl.classList.add('colab-df-spinner');\n",
              "      try {\n",
              "        const charts = await google.colab.kernel.invokeFunction(\n",
              "            'suggestCharts', [key], {});\n",
              "      } catch (error) {\n",
              "        console.error('Error during call to suggestCharts:', error);\n",
              "      }\n",
              "      quickchartButtonEl.classList.remove('colab-df-spinner');\n",
              "      quickchartButtonEl.classList.add('colab-df-quickchart-complete');\n",
              "    }\n",
              "    (() => {\n",
              "      let quickchartButtonEl =\n",
              "        document.querySelector('#df-beee1c6b-a9c5-4044-baf8-ae206e4c9726 button');\n",
              "      quickchartButtonEl.style.display =\n",
              "        google.colab.kernel.accessAllowed ? 'block' : 'none';\n",
              "    })();\n",
              "  </script>\n",
              "</div>\n",
              "    </div>\n",
              "  </div>\n"
            ]
          },
          "metadata": {},
          "execution_count": 89
        }
      ]
    },
    {
      "cell_type": "markdown",
      "source": [
        "#Building our Basic Model"
      ],
      "metadata": {
        "id": "CSIGw6L3GaLU"
      }
    },
    {
      "cell_type": "code",
      "source": [
        "from sklearn.impute import SimpleImputer #replaces missing values with means\n",
        "\n",
        "def get_train_test_fm(feature_matrix, original_data, percentage):\n",
        "    imp = SimpleImputer()\n",
        "\n",
        "    nrows = feature_matrix.shape[0]\n",
        "    head = int(nrows * percentage)\n",
        "    tail = nrows - head\n",
        "\n",
        "    X_train = feature_matrix.head(head)\n",
        "    y_train = original_data.head(head).trip_duration\n",
        "\n",
        "    X_train = imp.fit_transform(X_train)\n",
        "\n",
        "    X_test = feature_matrix.tail(tail)\n",
        "    y_test = original_data.tail(tail).trip_duration\n",
        "    X_test = imp.transform(X_test)\n",
        "\n",
        "    return (X_train, y_train, X_test, y_test)\n"
      ],
      "metadata": {
        "id": "oufPuBg4286R"
      },
      "execution_count": null,
      "outputs": []
    },
    {
      "cell_type": "code",
      "source": [
        "# Re-split data\n",
        "X_train, y_train, X_test, y_test = get_train_test_fm(feature_matrix,trips, .75) #pass (feature matrix, trips dataset, .75)\n",
        "y_train = np.log(y_train + 1)\n",
        "y_test = np.log(y_test + 1)\n",
        "\n",
        "print('Data split successful!')"
      ],
      "metadata": {
        "colab": {
          "base_uri": "https://localhost:8080/"
        },
        "id": "eNOsiQbe2icP",
        "outputId": "566819a0-284c-4932-a125-1f1e2560624e"
      },
      "execution_count": null,
      "outputs": [
        {
          "output_type": "stream",
          "name": "stdout",
          "text": [
            "Data split successful!\n"
          ]
        }
      ]
    },
    {
      "cell_type": "code",
      "source": [
        "# Create a model using the GradientBoostingRegressor()\n",
        "model = GradientBoostingRegressor(verbose=True)\n",
        "# fit the model by calling the model.fit() by passing the X_train and y_train as parameters\n",
        "model.fit(X_train, y_train)\n",
        "# Get the model scores by calling the model.score() function and pass the X_test and y_test as parameters\n",
        "model.score(X_test, y_test)\n",
        "print(model.score(X_test, y_test)) # Print the scores by calling the scores method in the print function. This is the R^2 value of the prediction\n",
        "\n",
        "print('Training successful!')"
      ],
      "metadata": {
        "id": "BW4IPWIi205K",
        "colab": {
          "base_uri": "https://localhost:8080/"
        },
        "outputId": "cf14c820-e84b-4798-eb2c-25766d208722"
      },
      "execution_count": null,
      "outputs": [
        {
          "output_type": "stream",
          "name": "stdout",
          "text": [
            "      Iter       Train Loss   Remaining Time \n",
            "         1           0.4736            1.06s\n",
            "         2           0.4148            1.40s\n",
            "         3           0.3661            1.16s\n",
            "         4           0.3266            1.04s\n",
            "         5           0.2934            0.98s\n",
            "         6           0.2665            0.92s\n",
            "         7           0.2441            0.90s\n",
            "         8           0.2257            0.87s\n",
            "         9           0.2103            0.85s\n",
            "        10           0.1973            0.82s\n",
            "        20           0.1435            0.67s\n",
            "        30           0.1315            0.57s\n",
            "        40           0.1262            0.48s\n",
            "        50           0.1231            0.39s\n",
            "        60           0.1209            0.31s\n",
            "        70           0.1188            0.23s\n",
            "        80           0.1167            0.16s\n",
            "        90           0.1154            0.08s\n",
            "       100           0.1139            0.00s\n",
            "0.7563732112218262\n",
            "Training successful!\n"
          ]
        }
      ]
    },
    {
      "cell_type": "markdown",
      "source": [
        "Question 2: First Model Features\n",
        "\n",
        "Describe the first automated features that we created for the model."
      ],
      "metadata": {
        "id": "9ttTNa4JGlNM"
      }
    },
    {
      "cell_type": "markdown",
      "source": [
        "**ANSWER 2:**\n",
        "\n",
        "*The automated features created are adding an entry for the corresponding `MONTH`, `WEEK`, `WEEKDAY`, `DAY`, `HOUR` and `MINUTE` value for `pickup_datetime` and `dropoff_datetime`*\n",
        "\n",
        "*After training with the* ***GradientBoostingRegressor*** *we can observe that the training loss improved with each iteration indicating that the model was improving*\n",
        "\n",
        "*The GradientBoostingRegressor gives us a R^2 evaluation metric of approx. `75.6%` - the higher the value of this metric, the better the fit of the model to the training dataset.*\n",
        "\n",
        "\n",
        "---\n",
        "\n"
      ],
      "metadata": {
        "id": "aauGQegIHMkE"
      }
    },
    {
      "cell_type": "markdown",
      "source": [
        "#Adding Further Transform Primitives to our Model"
      ],
      "metadata": {
        "id": "c1aXa47BHXL0"
      }
    },
    {
      "cell_type": "code",
      "source": [
        "trans_primitives = [Minute, Hour, Day, Week, Month, Weekday]\n",
        "\n",
        "feature_matrix, feature_names = ft.dfs(dataframes=entities,\n",
        "                  relationships=relationships,\n",
        "                  target_dataframe_name=\"trips\",\n",
        "                  trans_primitives=trans_primitives,\n",
        "                  agg_primitives=[],\n",
        "                  ignore_columns={\"trips\": [\"pickup_latitude\", \"pickup_longitude\",\n",
        "                                              \"dropoff_latitude\", \"dropoff_longitude\", \"trip_duration\"]},\n",
        "                  features_only=False) #This returns the feature_matrix as well as feature_names. If set to true only feature_names are returned\n",
        "\n",
        "print('Aggregation primitives successful!')"
      ],
      "metadata": {
        "colab": {
          "base_uri": "https://localhost:8080/"
        },
        "id": "Vf2dKfiRHj3E",
        "outputId": "cea0dc8b-2c72-4928-e2f3-7412aae0994d"
      },
      "execution_count": null,
      "outputs": [
        {
          "output_type": "stream",
          "name": "stderr",
          "text": [
            "/usr/local/lib/python3.10/dist-packages/featuretools/entityset/entityset.py:754: UserWarning: A Woodwork-initialized DataFrame was provided, so the following parameters were ignored: index, time_index\n",
            "  warnings.warn(\n",
            "/usr/local/lib/python3.10/dist-packages/featuretools/entityset/entityset.py:754: UserWarning: A Woodwork-initialized DataFrame was provided, so the following parameters were ignored: index\n",
            "  warnings.warn(\n"
          ]
        },
        {
          "output_type": "stream",
          "name": "stdout",
          "text": [
            "Aggregation primitives successful!\n"
          ]
        }
      ]
    },
    {
      "cell_type": "code",
      "source": [
        "#Write code to show the number of features, as well as all the feature names as a list\n",
        "n_features = feature_names.count(feature_names)\n",
        "print (\"Number of features = \", n_features)\n",
        "print(feature_names)"
      ],
      "metadata": {
        "id": "9Qylv_w-Hn2z",
        "colab": {
          "base_uri": "https://localhost:8080/"
        },
        "outputId": "c553db6a-6025-4064-ec81-503a2c6d4f1b"
      },
      "execution_count": null,
      "outputs": [
        {
          "output_type": "stream",
          "name": "stdout",
          "text": [
            "Number of features =  20\n",
            "[<Feature: vendor_id>, <Feature: passenger_count>, <Feature: trip_distance>, <Feature: payment_type>, <Feature: DAY(dropoff_datetime)>, <Feature: DAY(pickup_datetime)>, <Feature: HOUR(dropoff_datetime)>, <Feature: HOUR(pickup_datetime)>, <Feature: MINUTE(dropoff_datetime)>, <Feature: MINUTE(pickup_datetime)>, <Feature: MONTH(dropoff_datetime)>, <Feature: MONTH(pickup_datetime)>, <Feature: WEEK(dropoff_datetime)>, <Feature: WEEK(pickup_datetime)>, <Feature: WEEKDAY(dropoff_datetime)>, <Feature: WEEKDAY(pickup_datetime)>, <Feature: pickup_neighborhoods.latitude>, <Feature: pickup_neighborhoods.longitude>, <Feature: dropoff_neighborhoods.latitude>, <Feature: dropoff_neighborhoods.longitude>]\n"
          ]
        }
      ]
    },
    {
      "cell_type": "code",
      "source": [
        "# Re-split data\n",
        "X_train, y_train, X_test, y_test = get_train_test_fm(feature_matrix, trips, .75) #pass (feature matrix, trips dataset, .75)\n",
        "y_train = np.log(y_train + 1)\n",
        "y_test = np.log(y_test + 1)\n",
        "\n",
        "print('Data split successful!')"
      ],
      "metadata": {
        "colab": {
          "base_uri": "https://localhost:8080/"
        },
        "id": "HLIPmyiCHuHL",
        "outputId": "5b828c9b-bd98-402a-9933-7eeb757c90e8"
      },
      "execution_count": null,
      "outputs": [
        {
          "output_type": "stream",
          "name": "stdout",
          "text": [
            "Data split successful!\n"
          ]
        }
      ]
    },
    {
      "cell_type": "code",
      "source": [
        "# Create a model using the GradientBoostingRegressor()\n",
        "model = GradientBoostingRegressor(verbose=True)\n",
        "# fit the model by calling the model.fit() by passing the X_train and y_train as parameters\n",
        "model.fit(X_train, y_train)\n",
        "# Get the model scores by calling the model.score() function and pass the X_test and y_test as parameters\n",
        "model.score(X_test, y_test)\n",
        "print(\"R^2 Value: \",model.score(X_test, y_test)) # Print the scores by calling the scores method in the print function. This is the R^2 value of the prediction\n",
        "\n",
        "print('Training successful!')"
      ],
      "metadata": {
        "id": "YUbt30J_Hw4z",
        "colab": {
          "base_uri": "https://localhost:8080/"
        },
        "outputId": "e311edcc-c849-4872-98b6-5cc674ed19a8"
      },
      "execution_count": null,
      "outputs": [
        {
          "output_type": "stream",
          "name": "stdout",
          "text": [
            "      Iter       Train Loss   Remaining Time \n",
            "         1           0.4736            1.26s\n",
            "         2           0.4148            1.57s\n",
            "         3           0.3661            1.44s\n",
            "         4           0.3264            1.35s\n",
            "         5           0.2930            1.29s\n",
            "         6           0.2660            1.25s\n",
            "         7           0.2432            1.22s\n",
            "         8           0.2245            1.19s\n",
            "         9           0.2090            1.17s\n",
            "        10           0.1960            1.14s\n",
            "        20           0.1362            0.98s\n",
            "        30           0.1202            0.86s\n",
            "        40           0.1128            0.74s\n",
            "        50           0.1082            0.60s\n",
            "        60           0.1049            0.48s\n",
            "        70           0.1027            0.36s\n",
            "        80           0.1006            0.24s\n",
            "        90           0.0962            0.12s\n",
            "       100           0.0913            0.00s\n",
            "R^2 Value:  0.8080197351946704\n",
            "Training successful!\n"
          ]
        }
      ]
    },
    {
      "cell_type": "markdown",
      "source": [
        "Question 3: Second Model\n",
        "\n",
        "Describe the rest of new features we added to the model. How did this affect the performance of our model? How did this affect our training time?\n"
      ],
      "metadata": {
        "id": "N7vB1C_pH3e8"
      }
    },
    {
      "cell_type": "markdown",
      "source": [
        "**ANSWER 3:**\n",
        "\n",
        "*The newly generated features extract more complex information from the `pickup_neighborhoods` and `dropoff_neighborhoos` fields, such as the `COUNT` of the trips at that neighbourhood, the maximum number of passengers per trip, the maximum and minimum trip distances, the total sum of the trip distance, etc..  In total there are another 50 new featurs added to the model.\n",
        "\n",
        "*As can be expected adding more features to the model makes it take significantly longer to train (approx 2s vs 0.8s). The training loss in each iteration is also significantly decreased.*\n",
        "\n",
        "*The R^2 value has also increased to approx `80.8%` which indicates that this model is approximately 5% better at predicting our dataset than the previous one and that therefore at least some of the additional  features generated are useful to the model.*\n",
        "\n",
        "\n",
        "---\n",
        "\n"
      ],
      "metadata": {
        "id": "0GFEmSNRIGec"
      }
    },
    {
      "cell_type": "markdown",
      "source": [
        "#Aggregation Primitives"
      ],
      "metadata": {
        "id": "Ow-oHt8yIJV7"
      }
    },
    {
      "cell_type": "code",
      "source": [
        "trans_primitives = [Minute, Hour, Day, Week, Month, Weekday]\n",
        "aggregation_primitives = [Count, Sum, Mean, Median, Std, Max, Min]\n",
        "\n",
        "feature_matrix, feature_names = ft.dfs(dataframes=entities,\n",
        "                  relationships=relationships,\n",
        "                  target_dataframe_name=\"trips\",\n",
        "                  trans_primitives=trans_primitives,\n",
        "                  agg_primitives=aggregation_primitives,\n",
        "                  ignore_columns={\"trips\": [\"pickup_latitude\", \"pickup_longitude\",\n",
        "                                              \"dropoff_latitude\", \"dropoff_longitude\", \"trip_duration\"]},\n",
        "                  features_only=False)\n",
        "\n",
        "print('Aggregation primitives successful!')"
      ],
      "metadata": {
        "colab": {
          "base_uri": "https://localhost:8080/"
        },
        "id": "vqtoFiSM3O2p",
        "outputId": "a060eb5f-5378-4b20-9654-5c06304b969f"
      },
      "execution_count": null,
      "outputs": [
        {
          "output_type": "stream",
          "name": "stderr",
          "text": [
            "/usr/local/lib/python3.10/dist-packages/featuretools/entityset/entityset.py:754: UserWarning: A Woodwork-initialized DataFrame was provided, so the following parameters were ignored: index, time_index\n",
            "  warnings.warn(\n",
            "/usr/local/lib/python3.10/dist-packages/featuretools/entityset/entityset.py:754: UserWarning: A Woodwork-initialized DataFrame was provided, so the following parameters were ignored: index\n",
            "  warnings.warn(\n"
          ]
        },
        {
          "output_type": "stream",
          "name": "stdout",
          "text": [
            "Aggregation primitives successful!\n"
          ]
        }
      ]
    },
    {
      "cell_type": "code",
      "source": [
        "#Show feature count and all the features that we now have\n",
        "n_features = feature_names.count(feature_names)\n",
        "print (\"Number of features = \", n_features)\n",
        "print(feature_names)"
      ],
      "metadata": {
        "id": "JvUJ9GuP3xVU",
        "colab": {
          "base_uri": "https://localhost:8080/"
        },
        "outputId": "103e791a-fd96-4932-ea6b-2817b79be814"
      },
      "execution_count": null,
      "outputs": [
        {
          "output_type": "stream",
          "name": "stdout",
          "text": [
            "Number of features =  70\n",
            "[<Feature: vendor_id>, <Feature: passenger_count>, <Feature: trip_distance>, <Feature: payment_type>, <Feature: DAY(dropoff_datetime)>, <Feature: DAY(pickup_datetime)>, <Feature: HOUR(dropoff_datetime)>, <Feature: HOUR(pickup_datetime)>, <Feature: MINUTE(dropoff_datetime)>, <Feature: MINUTE(pickup_datetime)>, <Feature: MONTH(dropoff_datetime)>, <Feature: MONTH(pickup_datetime)>, <Feature: WEEK(dropoff_datetime)>, <Feature: WEEK(pickup_datetime)>, <Feature: WEEKDAY(dropoff_datetime)>, <Feature: WEEKDAY(pickup_datetime)>, <Feature: pickup_neighborhoods.latitude>, <Feature: pickup_neighborhoods.longitude>, <Feature: dropoff_neighborhoods.latitude>, <Feature: dropoff_neighborhoods.longitude>, <Feature: pickup_neighborhoods.COUNT(trips)>, <Feature: pickup_neighborhoods.MAX(trips.passenger_count)>, <Feature: pickup_neighborhoods.MAX(trips.payment_type)>, <Feature: pickup_neighborhoods.MAX(trips.trip_distance)>, <Feature: pickup_neighborhoods.MAX(trips.vendor_id)>, <Feature: pickup_neighborhoods.MEAN(trips.passenger_count)>, <Feature: pickup_neighborhoods.MEAN(trips.payment_type)>, <Feature: pickup_neighborhoods.MEAN(trips.trip_distance)>, <Feature: pickup_neighborhoods.MEAN(trips.vendor_id)>, <Feature: pickup_neighborhoods.MEDIAN(trips.passenger_count)>, <Feature: pickup_neighborhoods.MEDIAN(trips.payment_type)>, <Feature: pickup_neighborhoods.MEDIAN(trips.trip_distance)>, <Feature: pickup_neighborhoods.MEDIAN(trips.vendor_id)>, <Feature: pickup_neighborhoods.MIN(trips.passenger_count)>, <Feature: pickup_neighborhoods.MIN(trips.payment_type)>, <Feature: pickup_neighborhoods.MIN(trips.trip_distance)>, <Feature: pickup_neighborhoods.MIN(trips.vendor_id)>, <Feature: pickup_neighborhoods.STD(trips.passenger_count)>, <Feature: pickup_neighborhoods.STD(trips.payment_type)>, <Feature: pickup_neighborhoods.STD(trips.trip_distance)>, <Feature: pickup_neighborhoods.STD(trips.vendor_id)>, <Feature: pickup_neighborhoods.SUM(trips.passenger_count)>, <Feature: pickup_neighborhoods.SUM(trips.payment_type)>, <Feature: pickup_neighborhoods.SUM(trips.trip_distance)>, <Feature: pickup_neighborhoods.SUM(trips.vendor_id)>, <Feature: dropoff_neighborhoods.COUNT(trips)>, <Feature: dropoff_neighborhoods.MAX(trips.passenger_count)>, <Feature: dropoff_neighborhoods.MAX(trips.payment_type)>, <Feature: dropoff_neighborhoods.MAX(trips.trip_distance)>, <Feature: dropoff_neighborhoods.MAX(trips.vendor_id)>, <Feature: dropoff_neighborhoods.MEAN(trips.passenger_count)>, <Feature: dropoff_neighborhoods.MEAN(trips.payment_type)>, <Feature: dropoff_neighborhoods.MEAN(trips.trip_distance)>, <Feature: dropoff_neighborhoods.MEAN(trips.vendor_id)>, <Feature: dropoff_neighborhoods.MEDIAN(trips.passenger_count)>, <Feature: dropoff_neighborhoods.MEDIAN(trips.payment_type)>, <Feature: dropoff_neighborhoods.MEDIAN(trips.trip_distance)>, <Feature: dropoff_neighborhoods.MEDIAN(trips.vendor_id)>, <Feature: dropoff_neighborhoods.MIN(trips.passenger_count)>, <Feature: dropoff_neighborhoods.MIN(trips.payment_type)>, <Feature: dropoff_neighborhoods.MIN(trips.trip_distance)>, <Feature: dropoff_neighborhoods.MIN(trips.vendor_id)>, <Feature: dropoff_neighborhoods.STD(trips.passenger_count)>, <Feature: dropoff_neighborhoods.STD(trips.payment_type)>, <Feature: dropoff_neighborhoods.STD(trips.trip_distance)>, <Feature: dropoff_neighborhoods.STD(trips.vendor_id)>, <Feature: dropoff_neighborhoods.SUM(trips.passenger_count)>, <Feature: dropoff_neighborhoods.SUM(trips.payment_type)>, <Feature: dropoff_neighborhoods.SUM(trips.trip_distance)>, <Feature: dropoff_neighborhoods.SUM(trips.vendor_id)>]\n"
          ]
        }
      ]
    },
    {
      "cell_type": "code",
      "source": [
        "#preview 5 records in our feature matrix by calling the preview function\n",
        "preview(feature_matrix,5)"
      ],
      "metadata": {
        "id": "zPVwBhZE322q",
        "colab": {
          "base_uri": "https://localhost:8080/",
          "height": 287
        },
        "outputId": "789a4e64-c414-48d7-9ffb-04bdcbfdea9f"
      },
      "execution_count": null,
      "outputs": [
        {
          "output_type": "execute_result",
          "data": {
            "text/plain": [
              "        vendor_id  passenger_count  trip_distance  payment_type  \\\n",
              "id                                                                \n",
              "514030          2                1           2.46             1   \n",
              "514031          1                2           7.90             1   \n",
              "514032          1                1           1.00             1   \n",
              "514033          2                1           0.02             2   \n",
              "514034          1                2          19.00             1   \n",
              "\n",
              "       DAY(dropoff_datetime) DAY(pickup_datetime) HOUR(dropoff_datetime)  \\\n",
              "id                                                                         \n",
              "514030                     2                    2                      0   \n",
              "514031                     2                    2                      0   \n",
              "514032                     2                    2                      0   \n",
              "514033                     2                    2                      0   \n",
              "514034                     2                    2                      0   \n",
              "\n",
              "       HOUR(pickup_datetime) MINUTE(dropoff_datetime) MINUTE(pickup_datetime)  \\\n",
              "id                                                                              \n",
              "514030                     0                       17                       0   \n",
              "514031                     0                       24                       0   \n",
              "514032                     0                       19                       0   \n",
              "514033                     0                        1                       0   \n",
              "514034                     0                       58                       1   \n",
              "\n",
              "        ... dropoff_neighborhoods.MIN(trips.trip_distance)  \\\n",
              "id      ...                                                  \n",
              "514030  ...                                           0.00   \n",
              "514031  ...                                           0.30   \n",
              "514032  ...                                           0.00   \n",
              "514033  ...                                           0.00   \n",
              "514034  ...                                           0.17   \n",
              "\n",
              "       dropoff_neighborhoods.MIN(trips.vendor_id)  \\\n",
              "id                                                  \n",
              "514030                                        1.0   \n",
              "514031                                        1.0   \n",
              "514032                                        1.0   \n",
              "514033                                        1.0   \n",
              "514034                                        1.0   \n",
              "\n",
              "       dropoff_neighborhoods.STD(trips.passenger_count)  \\\n",
              "id                                                        \n",
              "514030                                         1.313686   \n",
              "514031                                         1.266439   \n",
              "514032                                         1.311967   \n",
              "514033                                         1.307116   \n",
              "514034                                         1.248404   \n",
              "\n",
              "       dropoff_neighborhoods.STD(trips.payment_type)  \\\n",
              "id                                                     \n",
              "514030                                      0.470580   \n",
              "514031                                      0.467941   \n",
              "514032                                      0.486889   \n",
              "514033                                      0.467893   \n",
              "514034                                      0.474956   \n",
              "\n",
              "       dropoff_neighborhoods.STD(trips.trip_distance)  \\\n",
              "id                                                      \n",
              "514030                                       2.086730   \n",
              "514031                                       2.742837   \n",
              "514032                                       1.706576   \n",
              "514033                                       2.745361   \n",
              "514034                                       2.664571   \n",
              "\n",
              "       dropoff_neighborhoods.STD(trips.vendor_id)  \\\n",
              "id                                                  \n",
              "514030                                   0.495500   \n",
              "514031                                   0.495777   \n",
              "514032                                   0.500502   \n",
              "514033                                   0.500776   \n",
              "514034                                   0.500012   \n",
              "\n",
              "        dropoff_neighborhoods.SUM(trips.passenger_count)  \\\n",
              "id                                                         \n",
              "514030                                             512.0   \n",
              "514031                                             293.0   \n",
              "514032                                             505.0   \n",
              "514033                                             491.0   \n",
              "514034                                             482.0   \n",
              "\n",
              "        dropoff_neighborhoods.SUM(trips.payment_type)  \\\n",
              "id                                                      \n",
              "514030                                          392.0   \n",
              "514031                                          239.0   \n",
              "514032                                          391.0   \n",
              "514033                                          358.0   \n",
              "514034                                          393.0   \n",
              "\n",
              "        dropoff_neighborhoods.SUM(trips.trip_distance)  \\\n",
              "id                                                       \n",
              "514030                                          603.25   \n",
              "514031                                          443.74   \n",
              "514032                                          556.44   \n",
              "514033                                          714.12   \n",
              "514034                                          661.57   \n",
              "\n",
              "        dropoff_neighborhoods.SUM(trips.vendor_id)  \n",
              "id                                                  \n",
              "514030                                       464.0  \n",
              "514031                                       285.0  \n",
              "514032                                       445.0  \n",
              "514033                                       426.0  \n",
              "514034                                       448.0  \n",
              "\n",
              "[5 rows x 70 columns]"
            ],
            "text/html": [
              "\n",
              "  <div id=\"df-1ba44082-e142-49e3-8272-91733ba31cea\" class=\"colab-df-container\">\n",
              "    <div>\n",
              "<style scoped>\n",
              "    .dataframe tbody tr th:only-of-type {\n",
              "        vertical-align: middle;\n",
              "    }\n",
              "\n",
              "    .dataframe tbody tr th {\n",
              "        vertical-align: top;\n",
              "    }\n",
              "\n",
              "    .dataframe thead th {\n",
              "        text-align: right;\n",
              "    }\n",
              "</style>\n",
              "<table border=\"1\" class=\"dataframe\">\n",
              "  <thead>\n",
              "    <tr style=\"text-align: right;\">\n",
              "      <th></th>\n",
              "      <th>vendor_id</th>\n",
              "      <th>passenger_count</th>\n",
              "      <th>trip_distance</th>\n",
              "      <th>payment_type</th>\n",
              "      <th>DAY(dropoff_datetime)</th>\n",
              "      <th>DAY(pickup_datetime)</th>\n",
              "      <th>HOUR(dropoff_datetime)</th>\n",
              "      <th>HOUR(pickup_datetime)</th>\n",
              "      <th>MINUTE(dropoff_datetime)</th>\n",
              "      <th>MINUTE(pickup_datetime)</th>\n",
              "      <th>...</th>\n",
              "      <th>dropoff_neighborhoods.MIN(trips.trip_distance)</th>\n",
              "      <th>dropoff_neighborhoods.MIN(trips.vendor_id)</th>\n",
              "      <th>dropoff_neighborhoods.STD(trips.passenger_count)</th>\n",
              "      <th>dropoff_neighborhoods.STD(trips.payment_type)</th>\n",
              "      <th>dropoff_neighborhoods.STD(trips.trip_distance)</th>\n",
              "      <th>dropoff_neighborhoods.STD(trips.vendor_id)</th>\n",
              "      <th>dropoff_neighborhoods.SUM(trips.passenger_count)</th>\n",
              "      <th>dropoff_neighborhoods.SUM(trips.payment_type)</th>\n",
              "      <th>dropoff_neighborhoods.SUM(trips.trip_distance)</th>\n",
              "      <th>dropoff_neighborhoods.SUM(trips.vendor_id)</th>\n",
              "    </tr>\n",
              "    <tr>\n",
              "      <th>id</th>\n",
              "      <th></th>\n",
              "      <th></th>\n",
              "      <th></th>\n",
              "      <th></th>\n",
              "      <th></th>\n",
              "      <th></th>\n",
              "      <th></th>\n",
              "      <th></th>\n",
              "      <th></th>\n",
              "      <th></th>\n",
              "      <th></th>\n",
              "      <th></th>\n",
              "      <th></th>\n",
              "      <th></th>\n",
              "      <th></th>\n",
              "      <th></th>\n",
              "      <th></th>\n",
              "      <th></th>\n",
              "      <th></th>\n",
              "      <th></th>\n",
              "      <th></th>\n",
              "    </tr>\n",
              "  </thead>\n",
              "  <tbody>\n",
              "    <tr>\n",
              "      <th>514030</th>\n",
              "      <td>2</td>\n",
              "      <td>1</td>\n",
              "      <td>2.46</td>\n",
              "      <td>1</td>\n",
              "      <td>2</td>\n",
              "      <td>2</td>\n",
              "      <td>0</td>\n",
              "      <td>0</td>\n",
              "      <td>17</td>\n",
              "      <td>0</td>\n",
              "      <td>...</td>\n",
              "      <td>0.00</td>\n",
              "      <td>1.0</td>\n",
              "      <td>1.313686</td>\n",
              "      <td>0.470580</td>\n",
              "      <td>2.086730</td>\n",
              "      <td>0.495500</td>\n",
              "      <td>512.0</td>\n",
              "      <td>392.0</td>\n",
              "      <td>603.25</td>\n",
              "      <td>464.0</td>\n",
              "    </tr>\n",
              "    <tr>\n",
              "      <th>514031</th>\n",
              "      <td>1</td>\n",
              "      <td>2</td>\n",
              "      <td>7.90</td>\n",
              "      <td>1</td>\n",
              "      <td>2</td>\n",
              "      <td>2</td>\n",
              "      <td>0</td>\n",
              "      <td>0</td>\n",
              "      <td>24</td>\n",
              "      <td>0</td>\n",
              "      <td>...</td>\n",
              "      <td>0.30</td>\n",
              "      <td>1.0</td>\n",
              "      <td>1.266439</td>\n",
              "      <td>0.467941</td>\n",
              "      <td>2.742837</td>\n",
              "      <td>0.495777</td>\n",
              "      <td>293.0</td>\n",
              "      <td>239.0</td>\n",
              "      <td>443.74</td>\n",
              "      <td>285.0</td>\n",
              "    </tr>\n",
              "    <tr>\n",
              "      <th>514032</th>\n",
              "      <td>1</td>\n",
              "      <td>1</td>\n",
              "      <td>1.00</td>\n",
              "      <td>1</td>\n",
              "      <td>2</td>\n",
              "      <td>2</td>\n",
              "      <td>0</td>\n",
              "      <td>0</td>\n",
              "      <td>19</td>\n",
              "      <td>0</td>\n",
              "      <td>...</td>\n",
              "      <td>0.00</td>\n",
              "      <td>1.0</td>\n",
              "      <td>1.311967</td>\n",
              "      <td>0.486889</td>\n",
              "      <td>1.706576</td>\n",
              "      <td>0.500502</td>\n",
              "      <td>505.0</td>\n",
              "      <td>391.0</td>\n",
              "      <td>556.44</td>\n",
              "      <td>445.0</td>\n",
              "    </tr>\n",
              "    <tr>\n",
              "      <th>514033</th>\n",
              "      <td>2</td>\n",
              "      <td>1</td>\n",
              "      <td>0.02</td>\n",
              "      <td>2</td>\n",
              "      <td>2</td>\n",
              "      <td>2</td>\n",
              "      <td>0</td>\n",
              "      <td>0</td>\n",
              "      <td>1</td>\n",
              "      <td>0</td>\n",
              "      <td>...</td>\n",
              "      <td>0.00</td>\n",
              "      <td>1.0</td>\n",
              "      <td>1.307116</td>\n",
              "      <td>0.467893</td>\n",
              "      <td>2.745361</td>\n",
              "      <td>0.500776</td>\n",
              "      <td>491.0</td>\n",
              "      <td>358.0</td>\n",
              "      <td>714.12</td>\n",
              "      <td>426.0</td>\n",
              "    </tr>\n",
              "    <tr>\n",
              "      <th>514034</th>\n",
              "      <td>1</td>\n",
              "      <td>2</td>\n",
              "      <td>19.00</td>\n",
              "      <td>1</td>\n",
              "      <td>2</td>\n",
              "      <td>2</td>\n",
              "      <td>0</td>\n",
              "      <td>0</td>\n",
              "      <td>58</td>\n",
              "      <td>1</td>\n",
              "      <td>...</td>\n",
              "      <td>0.17</td>\n",
              "      <td>1.0</td>\n",
              "      <td>1.248404</td>\n",
              "      <td>0.474956</td>\n",
              "      <td>2.664571</td>\n",
              "      <td>0.500012</td>\n",
              "      <td>482.0</td>\n",
              "      <td>393.0</td>\n",
              "      <td>661.57</td>\n",
              "      <td>448.0</td>\n",
              "    </tr>\n",
              "  </tbody>\n",
              "</table>\n",
              "<p>5 rows × 70 columns</p>\n",
              "</div>\n",
              "    <div class=\"colab-df-buttons\">\n",
              "\n",
              "  <div class=\"colab-df-container\">\n",
              "    <button class=\"colab-df-convert\" onclick=\"convertToInteractive('df-1ba44082-e142-49e3-8272-91733ba31cea')\"\n",
              "            title=\"Convert this dataframe to an interactive table.\"\n",
              "            style=\"display:none;\">\n",
              "\n",
              "  <svg xmlns=\"http://www.w3.org/2000/svg\" height=\"24px\" viewBox=\"0 -960 960 960\">\n",
              "    <path d=\"M120-120v-720h720v720H120Zm60-500h600v-160H180v160Zm220 220h160v-160H400v160Zm0 220h160v-160H400v160ZM180-400h160v-160H180v160Zm440 0h160v-160H620v160ZM180-180h160v-160H180v160Zm440 0h160v-160H620v160Z\"/>\n",
              "  </svg>\n",
              "    </button>\n",
              "\n",
              "  <style>\n",
              "    .colab-df-container {\n",
              "      display:flex;\n",
              "      gap: 12px;\n",
              "    }\n",
              "\n",
              "    .colab-df-convert {\n",
              "      background-color: #E8F0FE;\n",
              "      border: none;\n",
              "      border-radius: 50%;\n",
              "      cursor: pointer;\n",
              "      display: none;\n",
              "      fill: #1967D2;\n",
              "      height: 32px;\n",
              "      padding: 0 0 0 0;\n",
              "      width: 32px;\n",
              "    }\n",
              "\n",
              "    .colab-df-convert:hover {\n",
              "      background-color: #E2EBFA;\n",
              "      box-shadow: 0px 1px 2px rgba(60, 64, 67, 0.3), 0px 1px 3px 1px rgba(60, 64, 67, 0.15);\n",
              "      fill: #174EA6;\n",
              "    }\n",
              "\n",
              "    .colab-df-buttons div {\n",
              "      margin-bottom: 4px;\n",
              "    }\n",
              "\n",
              "    [theme=dark] .colab-df-convert {\n",
              "      background-color: #3B4455;\n",
              "      fill: #D2E3FC;\n",
              "    }\n",
              "\n",
              "    [theme=dark] .colab-df-convert:hover {\n",
              "      background-color: #434B5C;\n",
              "      box-shadow: 0px 1px 3px 1px rgba(0, 0, 0, 0.15);\n",
              "      filter: drop-shadow(0px 1px 2px rgba(0, 0, 0, 0.3));\n",
              "      fill: #FFFFFF;\n",
              "    }\n",
              "  </style>\n",
              "\n",
              "    <script>\n",
              "      const buttonEl =\n",
              "        document.querySelector('#df-1ba44082-e142-49e3-8272-91733ba31cea button.colab-df-convert');\n",
              "      buttonEl.style.display =\n",
              "        google.colab.kernel.accessAllowed ? 'block' : 'none';\n",
              "\n",
              "      async function convertToInteractive(key) {\n",
              "        const element = document.querySelector('#df-1ba44082-e142-49e3-8272-91733ba31cea');\n",
              "        const dataTable =\n",
              "          await google.colab.kernel.invokeFunction('convertToInteractive',\n",
              "                                                    [key], {});\n",
              "        if (!dataTable) return;\n",
              "\n",
              "        const docLinkHtml = 'Like what you see? Visit the ' +\n",
              "          '<a target=\"_blank\" href=https://colab.research.google.com/notebooks/data_table.ipynb>data table notebook</a>'\n",
              "          + ' to learn more about interactive tables.';\n",
              "        element.innerHTML = '';\n",
              "        dataTable['output_type'] = 'display_data';\n",
              "        await google.colab.output.renderOutput(dataTable, element);\n",
              "        const docLink = document.createElement('div');\n",
              "        docLink.innerHTML = docLinkHtml;\n",
              "        element.appendChild(docLink);\n",
              "      }\n",
              "    </script>\n",
              "  </div>\n",
              "\n",
              "\n",
              "<div id=\"df-8af9c890-7e48-444b-9249-66c1b3ef181b\">\n",
              "  <button class=\"colab-df-quickchart\" onclick=\"quickchart('df-8af9c890-7e48-444b-9249-66c1b3ef181b')\"\n",
              "            title=\"Suggest charts\"\n",
              "            style=\"display:none;\">\n",
              "\n",
              "<svg xmlns=\"http://www.w3.org/2000/svg\" height=\"24px\"viewBox=\"0 0 24 24\"\n",
              "     width=\"24px\">\n",
              "    <g>\n",
              "        <path d=\"M19 3H5c-1.1 0-2 .9-2 2v14c0 1.1.9 2 2 2h14c1.1 0 2-.9 2-2V5c0-1.1-.9-2-2-2zM9 17H7v-7h2v7zm4 0h-2V7h2v10zm4 0h-2v-4h2v4z\"/>\n",
              "    </g>\n",
              "</svg>\n",
              "  </button>\n",
              "\n",
              "<style>\n",
              "  .colab-df-quickchart {\n",
              "      --bg-color: #E8F0FE;\n",
              "      --fill-color: #1967D2;\n",
              "      --hover-bg-color: #E2EBFA;\n",
              "      --hover-fill-color: #174EA6;\n",
              "      --disabled-fill-color: #AAA;\n",
              "      --disabled-bg-color: #DDD;\n",
              "  }\n",
              "\n",
              "  [theme=dark] .colab-df-quickchart {\n",
              "      --bg-color: #3B4455;\n",
              "      --fill-color: #D2E3FC;\n",
              "      --hover-bg-color: #434B5C;\n",
              "      --hover-fill-color: #FFFFFF;\n",
              "      --disabled-bg-color: #3B4455;\n",
              "      --disabled-fill-color: #666;\n",
              "  }\n",
              "\n",
              "  .colab-df-quickchart {\n",
              "    background-color: var(--bg-color);\n",
              "    border: none;\n",
              "    border-radius: 50%;\n",
              "    cursor: pointer;\n",
              "    display: none;\n",
              "    fill: var(--fill-color);\n",
              "    height: 32px;\n",
              "    padding: 0;\n",
              "    width: 32px;\n",
              "  }\n",
              "\n",
              "  .colab-df-quickchart:hover {\n",
              "    background-color: var(--hover-bg-color);\n",
              "    box-shadow: 0 1px 2px rgba(60, 64, 67, 0.3), 0 1px 3px 1px rgba(60, 64, 67, 0.15);\n",
              "    fill: var(--button-hover-fill-color);\n",
              "  }\n",
              "\n",
              "  .colab-df-quickchart-complete:disabled,\n",
              "  .colab-df-quickchart-complete:disabled:hover {\n",
              "    background-color: var(--disabled-bg-color);\n",
              "    fill: var(--disabled-fill-color);\n",
              "    box-shadow: none;\n",
              "  }\n",
              "\n",
              "  .colab-df-spinner {\n",
              "    border: 2px solid var(--fill-color);\n",
              "    border-color: transparent;\n",
              "    border-bottom-color: var(--fill-color);\n",
              "    animation:\n",
              "      spin 1s steps(1) infinite;\n",
              "  }\n",
              "\n",
              "  @keyframes spin {\n",
              "    0% {\n",
              "      border-color: transparent;\n",
              "      border-bottom-color: var(--fill-color);\n",
              "      border-left-color: var(--fill-color);\n",
              "    }\n",
              "    20% {\n",
              "      border-color: transparent;\n",
              "      border-left-color: var(--fill-color);\n",
              "      border-top-color: var(--fill-color);\n",
              "    }\n",
              "    30% {\n",
              "      border-color: transparent;\n",
              "      border-left-color: var(--fill-color);\n",
              "      border-top-color: var(--fill-color);\n",
              "      border-right-color: var(--fill-color);\n",
              "    }\n",
              "    40% {\n",
              "      border-color: transparent;\n",
              "      border-right-color: var(--fill-color);\n",
              "      border-top-color: var(--fill-color);\n",
              "    }\n",
              "    60% {\n",
              "      border-color: transparent;\n",
              "      border-right-color: var(--fill-color);\n",
              "    }\n",
              "    80% {\n",
              "      border-color: transparent;\n",
              "      border-right-color: var(--fill-color);\n",
              "      border-bottom-color: var(--fill-color);\n",
              "    }\n",
              "    90% {\n",
              "      border-color: transparent;\n",
              "      border-bottom-color: var(--fill-color);\n",
              "    }\n",
              "  }\n",
              "</style>\n",
              "\n",
              "  <script>\n",
              "    async function quickchart(key) {\n",
              "      const quickchartButtonEl =\n",
              "        document.querySelector('#' + key + ' button');\n",
              "      quickchartButtonEl.disabled = true;  // To prevent multiple clicks.\n",
              "      quickchartButtonEl.classList.add('colab-df-spinner');\n",
              "      try {\n",
              "        const charts = await google.colab.kernel.invokeFunction(\n",
              "            'suggestCharts', [key], {});\n",
              "      } catch (error) {\n",
              "        console.error('Error during call to suggestCharts:', error);\n",
              "      }\n",
              "      quickchartButtonEl.classList.remove('colab-df-spinner');\n",
              "      quickchartButtonEl.classList.add('colab-df-quickchart-complete');\n",
              "    }\n",
              "    (() => {\n",
              "      let quickchartButtonEl =\n",
              "        document.querySelector('#df-8af9c890-7e48-444b-9249-66c1b3ef181b button');\n",
              "      quickchartButtonEl.style.display =\n",
              "        google.colab.kernel.accessAllowed ? 'block' : 'none';\n",
              "    })();\n",
              "  </script>\n",
              "</div>\n",
              "    </div>\n",
              "  </div>\n"
            ]
          },
          "metadata": {},
          "execution_count": 99
        }
      ]
    },
    {
      "cell_type": "code",
      "source": [
        "# Re-split data\n",
        "X_train, y_train, X_test, y_test = get_train_test_fm(feature_matrix,trips, .75) #pass (feature matrix, trips dataset, .75)\n",
        "y_train = np.log(y_train + 1)\n",
        "y_test = np.log(y_test + 1)\n",
        "\n",
        "print('Data split successful!')"
      ],
      "metadata": {
        "colab": {
          "base_uri": "https://localhost:8080/"
        },
        "id": "9kkPHabn4AzB",
        "outputId": "3c79a800-f88e-42a4-86e7-0f6cf6b7817e"
      },
      "execution_count": null,
      "outputs": [
        {
          "output_type": "stream",
          "name": "stdout",
          "text": [
            "Data split successful!\n"
          ]
        }
      ]
    },
    {
      "cell_type": "code",
      "source": [
        "# Create a model using the GradientBoostingRegressor()\n",
        "model = GradientBoostingRegressor(verbose=True)\n",
        "# fit the model by calling the model.fit() by passing the X_train and y_train as parameters\n",
        "model.fit(X_train, y_train)\n",
        "# Get the model scores by calling the model.score() function and pass the X_test and y_test as parameters\n",
        "model.score(X_test, y_test)\n",
        "print(model.score(X_test, y_test)) # Print the scores by calling the scores method in the print function. This is the R^2 value of the prediction\n",
        "\n",
        "\n",
        "print('Training successful!')"
      ],
      "metadata": {
        "id": "H78CNgBz4JpU",
        "colab": {
          "base_uri": "https://localhost:8080/"
        },
        "outputId": "04965959-7096-4526-d0e7-3914041e742c"
      },
      "execution_count": null,
      "outputs": [
        {
          "output_type": "stream",
          "name": "stdout",
          "text": [
            "      Iter       Train Loss   Remaining Time \n",
            "         1           0.4736            5.13s\n",
            "         2           0.4148            5.46s\n",
            "         3           0.3661            6.00s\n",
            "         4           0.3264            5.99s\n",
            "         5           0.2930            5.92s\n",
            "         6           0.2660            5.85s\n",
            "         7           0.2432            5.75s\n",
            "         8           0.2245            5.79s\n",
            "         9           0.2090            5.69s\n",
            "        10           0.1960            5.83s\n",
            "        20           0.1363            4.93s\n",
            "        30           0.1198            4.22s\n",
            "        40           0.1114            3.82s\n",
            "        50           0.1063            3.05s\n",
            "        60           0.1027            2.65s\n",
            "        70           0.0999            1.98s\n",
            "        80           0.0977            1.30s\n",
            "        90           0.0953            0.68s\n",
            "       100           0.0934            0.00s\n",
            "0.8023336903586529\n",
            "Training successful!\n"
          ]
        }
      ]
    },
    {
      "cell_type": "markdown",
      "source": [],
      "metadata": {
        "id": "m31hIQmxQ5xQ"
      }
    },
    {
      "cell_type": "markdown",
      "source": [
        "Question 3.1: By how much did our accuracy increase after adding further features to our model?"
      ],
      "metadata": {
        "id": "cUgT7qSg4Stg"
      }
    },
    {
      "cell_type": "markdown",
      "source": [
        "**ANSWER 3.1:**\n",
        "\n",
        "*This time we have a R^2 evaluation metric of c.a. `80.2%`  which is marginally worse than the previously achieved metric of `80.8%` with a total **_drop_** in accuracy of ***approx. `0.6%`***.*\n",
        "\n",
        "This suggests that at least some of the newly created features are irrelevant to the model and that the model might be overfitting the trainig data and capturing 'noise' in the dataset rather than sigificant patterns.\n",
        "\n",
        "---\n",
        "\n"
      ],
      "metadata": {
        "id": "UTGSw61ZEMy_"
      }
    },
    {
      "cell_type": "markdown",
      "source": [
        "#Evaluating on Test Data"
      ],
      "metadata": {
        "id": "ES8bVr1u4bPm"
      }
    },
    {
      "cell_type": "code",
      "source": [
        "y_pred = model.predict(X_test)\n",
        "y_pred = np.exp(y_pred) - 1 # undo the log we took earlier\n",
        "\n",
        "print('y_pred computation successful!')"
      ],
      "metadata": {
        "colab": {
          "base_uri": "https://localhost:8080/"
        },
        "id": "4f3GNfPA4ZoN",
        "outputId": "cc97f964-0293-432b-abd4-e8948cda455f"
      },
      "execution_count": null,
      "outputs": [
        {
          "output_type": "stream",
          "name": "stdout",
          "text": [
            "y_pred computation successful!\n"
          ]
        }
      ]
    },
    {
      "cell_type": "code",
      "source": [
        "# Print the first 5 predictions\n",
        "y_pred[:5]"
      ],
      "metadata": {
        "colab": {
          "base_uri": "https://localhost:8080/"
        },
        "id": "RXuXcnuR4ekw",
        "outputId": "23bb6234-0534-4b8f-9cf7-57f49a61aaa7"
      },
      "execution_count": null,
      "outputs": [
        {
          "output_type": "execute_result",
          "data": {
            "text/plain": [
              "array([432.06429399, 669.00943141, 647.56334547, 628.35976187,\n",
              "       418.15695184])"
            ]
          },
          "metadata": {},
          "execution_count": 103
        }
      ]
    },
    {
      "cell_type": "code",
      "source": [
        "# Create a histogram of all the predictions\n",
        "#matplotlib.pyplot.hist() #pass the prediction values\n",
        "matplotlib.pyplot.hist(y_pred,)\n",
        "\n",
        "print('Histogram generation successful!')"
      ],
      "metadata": {
        "colab": {
          "base_uri": "https://localhost:8080/",
          "height": 448
        },
        "id": "XlM6S-wk4k0o",
        "outputId": "641fab44-adcd-42c1-bb75-ac965d6447db"
      },
      "execution_count": null,
      "outputs": [
        {
          "output_type": "stream",
          "name": "stdout",
          "text": [
            "Histogram generation successful!\n"
          ]
        },
        {
          "output_type": "display_data",
          "data": {
            "text/plain": [
              "<Figure size 640x480 with 1 Axes>"
            ],
            "image/png": "[encoded data removed]"
          },
          "metadata": {}
        }
      ]
    },
    {
      "cell_type": "markdown",
      "source": [
        "#Question 4: Model Prediction Improvements"
      ],
      "metadata": {
        "id": "kSlbahkN5C-o"
      }
    },
    {
      "cell_type": "markdown",
      "source": [
        "**Analyze the model predictions. Does the output distribution match the one you made earlier in the case study? What other features/strategies could we use to make our model even better, if we had more time?**\n",
        "\n",
        "\n",
        "\n",
        "\n",
        "\n",
        "\n",
        "\n",
        "\n"
      ],
      "metadata": {
        "id": "l1MfB5754xKZ"
      }
    },
    {
      "cell_type": "markdown",
      "source": [
        "**ANSWER 4:**\n",
        "\n",
        "*The output histogram appears to match the original one quite closely.  However there is room for improvement of the model.  Some possible improvements are:*\n",
        "\n",
        "**Better feature selectivty:** *Based on the outputs achieved we can be more selective with the features used in the training dataset and eliminate those features that do not have a singnificant impact on the model.*\n",
        "\n",
        "**Additional Features:**  *We can add features to our training set to consider other temporal features such as ``time_of_day`` (eg. Morning, Afternoon, Evening, Night, etc..) and ``season`` (eg. Spring, Summer, Autumn, etc...) to capture any  seasonaliy trends in the dataset.\n",
        "Possibly we can also retrieve ``weather`` data for a given ``neighbourhood`` at a given ``timedate`` from a third party dataset to see to what extent weather conditions impact ``trip_duration``.*\n",
        "\n",
        "*It might also be intersting to generate a set of features related to the ``distance`` of the ``pickup_location`` and ``dropoff_location`` to popular landmarks and points of interest.  This could expose significant correlations between `trip_duration` and how close/far away from a point-of-interest passengers are picked up and dropped off.*\n",
        "\n",
        "\n",
        "---\n"
      ],
      "metadata": {
        "id": "htr1dJkluR9J"
      }
    },
    {
      "cell_type": "markdown",
      "source": [
        "#Feature Importance"
      ],
      "metadata": {
        "id": "zsCtDAGI5K7l"
      }
    },
    {
      "cell_type": "code",
      "source": [
        "def feature_importances(model, feature_names, n=10):\n",
        "    importances = model.feature_importances_\n",
        "    zipped = sorted(zip(feature_names, importances), key=lambda x: -x[1])\n",
        "    for i, f in enumerate(zipped[:n]):\n",
        "        print(\"%d: Feature: %s, %.3f\" % (i + 1, f[0], f[1]))"
      ],
      "metadata": {
        "id": "ptVrscYb5Ubh"
      },
      "execution_count": null,
      "outputs": []
    },
    {
      "cell_type": "code",
      "source": [
        "feature_importances(model, feature_matrix.columns, n=25)"
      ],
      "metadata": {
        "id": "-J8Lg1yp41Y6",
        "colab": {
          "base_uri": "https://localhost:8080/"
        },
        "outputId": "758e526b-8101-4449-92ad-dbde08b91ec7"
      },
      "execution_count": null,
      "outputs": [
        {
          "output_type": "stream",
          "name": "stdout",
          "text": [
            "1: Feature: trip_distance, 0.867\n",
            "2: Feature: dropoff_neighborhoods.longitude, 0.029\n",
            "3: Feature: HOUR(pickup_datetime), 0.027\n",
            "4: Feature: dropoff_neighborhoods.latitude, 0.022\n",
            "5: Feature: HOUR(dropoff_datetime), 0.013\n",
            "6: Feature: pickup_neighborhoods.longitude, 0.004\n",
            "7: Feature: pickup_neighborhoods.COUNT(trips), 0.004\n",
            "8: Feature: MINUTE(dropoff_datetime), 0.003\n",
            "9: Feature: dropoff_neighborhoods.COUNT(trips), 0.003\n",
            "10: Feature: dropoff_neighborhoods.SUM(trips.trip_distance), 0.002\n",
            "11: Feature: pickup_neighborhoods.latitude, 0.002\n",
            "12: Feature: pickup_neighborhoods.MEDIAN(trips.trip_distance), 0.002\n",
            "13: Feature: pickup_neighborhoods.SUM(trips.trip_distance), 0.002\n",
            "14: Feature: pickup_neighborhoods.MEAN(trips.payment_type), 0.002\n",
            "15: Feature: MINUTE(pickup_datetime), 0.002\n",
            "16: Feature: pickup_neighborhoods.MEAN(trips.passenger_count), 0.002\n",
            "17: Feature: dropoff_neighborhoods.MAX(trips.trip_distance), 0.001\n",
            "18: Feature: dropoff_neighborhoods.SUM(trips.vendor_id), 0.001\n",
            "19: Feature: dropoff_neighborhoods.MEAN(trips.passenger_count), 0.001\n",
            "20: Feature: dropoff_neighborhoods.STD(trips.vendor_id), 0.001\n",
            "21: Feature: dropoff_neighborhoods.SUM(trips.passenger_count), 0.001\n",
            "22: Feature: pickup_neighborhoods.MEAN(trips.trip_distance), 0.001\n",
            "23: Feature: pickup_neighborhoods.STD(trips.trip_distance), 0.001\n",
            "24: Feature: dropoff_neighborhoods.MEAN(trips.payment_type), 0.001\n",
            "25: Feature: dropoff_neighborhoods.MEAN(trips.vendor_id), 0.001\n"
          ]
        }
      ]
    },
    {
      "cell_type": "markdown",
      "source": [
        "Question 5: Feature Importance\n",
        "\n",
        "**Analyze the feature importance values you just computed above. Do they make sense? Are there any values you are surprised by? Give some brief explanations as to why these features are relevant in computing the `trip_duration` target variable.**"
      ],
      "metadata": {
        "id": "KMNZE3PKKBYc"
      }
    },
    {
      "cell_type": "markdown",
      "source": [
        "**ANSWER 5:**\n",
        "\n",
        "*`trip_distance` is the most significant feature - which is to be expected since the longer the distance of the trip, the longer one would expect the trip duration to be.*\n",
        "\n",
        "*The next most significant features are `dropoff_neighbourhoods.longitude`, `HOUR(pickup_datetime)`,`dropoff_neighbourhoods.latitude`, and `HOUR(dropoff_datetime)`.*  \n",
        "*The pickup and dropoff hours will affect the `trip_duration` as the roads will have more or less traffic on them depending on the time of day.  The latitude and longitude of the dropoff neighbourhoods will affect the `trip_duration` since some areas may be busier, or harder to get to in general, and will result in longer trip times.*\n",
        "\n",
        "*What is  surprising (and somewhat counter-intuitive) to me is that while the location (latitude and longitude) of the **dropoff** neighbourhood is having a significant effect on `trip_duration`, the effect of the location of the **pickup** neighbourhood is a lot less significant. I would have expected these features to be almost equally as important.  This is most likely because Taxi drivers will normally patrol a specific area (or park in a given taxi stand) and therefore most of their trips will have the same `pickup_neighborhood` and therefore the `dropoff_neighbourhood` will have a much greater impact on the `trip_duration`.*\n",
        "\n",
        "*It is worth noting that of the top 5 most significant features, three were included in the original dataset and two where from the first set of transform primitives generated.*\n",
        "\n",
        "*The second set of generated primitives added an additional 50 features, of which **only three** are amongst the top 10 most significant features and are of a relatively lower significance.  This helps explain why the R^2 value of the second training model was lower, since the spuriously added features created noise in the model lowering its accuracy.*\n",
        "\n",
        "---\n",
        "\n",
        "\n",
        "\n"
      ],
      "metadata": {
        "id": "j2P8xrzZKFZL"
      }
    },
    {
      "cell_type": "code",
      "source": [],
      "metadata": {
        "id": "J3nHZetOKB55"
      },
      "execution_count": null,
      "outputs": []
    }
  ]
}